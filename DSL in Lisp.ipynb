{
 "cells": [
  {
   "cell_type": "markdown",
   "metadata": {},
   "source": [
    "# Domain Specific Languages in Lisp on Python"
   ]
  },
  {
   "cell_type": "markdown",
   "metadata": {},
   "source": [
    "This tutorial is based on a [video](https://www.youtube.com/watch?v=5FlHq_iiDW0) by Rainer Joswig.   In the video, he writes a Lisp solution to an [article](https://www.martinfowler.com/articles/languageWorkbench.html) about Domain Specific Languages by Martin Fowler.    Rainer used Common Lisp - specifically [LispWorks](http://www.lispworks.com), who are our neighbours across the road in the St John's Innovation Centre.    We will translate his solution into [Hy](http://hylang.org), a Lisp which transpiles to Python.\n",
    "\n",
    "The main points of interest are:\n",
    " * [Hy syntax](http://docs.hylang.org/en/stable/tutorial.html#hy-is-a-lisp-flavored-python)\n",
    " * [Multiple dispatch (multimethods)](https://en.wikipedia.org/wiki/Multiple_dispatch)\n",
    " * [Macros](http://docs.hylang.org/en/stable/tutorial.html#macros)"
   ]
  },
  {
   "cell_type": "markdown",
   "metadata": {},
   "source": [
    "## Define the data"
   ]
  },
  {
   "cell_type": "markdown",
   "metadata": {},
   "source": [
    "Let's start by defining the test data.   This is a global variable.   In the Python translation, it will be called `EXAMPLE_DATA`."
   ]
  },
  {
   "cell_type": "code",
   "execution_count": 4,
   "metadata": {
    "scrolled": true
   },
   "outputs": [],
   "source": [
    "(def *example-data*\n",
    "     \"SVCLFOWLER         10101MS0120050313.........................\n",
    "SVCLHOHPE          10201DX0320050315........................\n",
    "SVCLTWO           x10301MRP220050329..............................\n",
    "USGE10301TWO          x50214..7050329...............................\")"
   ]
  },
  {
   "cell_type": "markdown",
   "metadata": {},
   "source": [
    "Let's also define a table of mappings from prefixes to classes and formats.   When translated to Python, this will become a nested Python list called `MAPPINGS`."
   ]
  },
  {
   "cell_type": "code",
   "execution_count": 7,
   "metadata": {},
   "outputs": [],
   "source": [
    "(def *mappings*\n",
    "     [[\"SVCL\" :service-call\n",
    "              [4 18 :customer-name]\n",
    "              [19 23 :customer-id]\n",
    "              [24 27 :call-type-code]\n",
    "              [28 35 :date-of-call-string]]\n",
    "      [\"USGE\" :usage\n",
    "              [4 8 :customer-id]\n",
    "              [9 22 :customer-name]\n",
    "              [30 30 :cycle]\n",
    "              [31 36 :read-date]]])"
   ]
  },
  {
   "cell_type": "markdown",
   "metadata": {},
   "source": [
    "## Parsing the SVCL record"
   ]
  },
  {
   "cell_type": "markdown",
   "metadata": {},
   "source": [
    "Finally, let's declare a class to represent a service call.   In Common Lisp we must define the slots (member variables) but we don't have to do that in Python.    We will give this class a custom `__repr__` method so the toplevel can print it nicely."
   ]
  },
  {
   "cell_type": "code",
   "execution_count": 37,
   "metadata": {},
   "outputs": [],
   "source": [
    "(defclass service-call [object]\n",
    "          (defn --repr-- [self]\n",
    "                (.format \"service-call:\\n   {}\\n   {}\\n   {}\\n   {}\\n\"\n",
    "                         self.customer-name\n",
    "                         self.customer-id\n",
    "                         self.call-type-code\n",
    "                         self.date-of-call-string)))"
   ]
  },
  {
   "cell_type": "markdown",
   "metadata": {},
   "source": [
    "Let's define the parser.   In the Common Lisp Object System (CLOS), `defmethod` declares a *multimethod*, which is more powerful than the single dispatch methods provided by Python.   Fortunately Hy has an extension which provides multimethods inspired by Clojure.   We'll import the extension and define a `parse-line-for-class` multimethod which dispatches on the `class` parameter."
   ]
  },
  {
   "cell_type": "code",
   "execution_count": 38,
   "metadata": {},
   "outputs": [],
   "source": [
    "(require [hy.contrib.multi [defmulti defmethod default-method]])\n",
    "(defmulti parse-line-for-class [line class] class)"
   ]
  },
  {
   "cell_type": "markdown",
   "metadata": {},
   "source": [
    "Here is the parser for a service call.   It creates a new `service-call` object and then iterates over a list of knows field offsets and stores them into slots on the object.   This is a bit more generic than simply making 4 separate `setattr` calls, but the field list is still hard coded. "
   ]
  },
  {
   "cell_type": "code",
   "execution_count": 41,
   "metadata": {},
   "outputs": [],
   "source": [
    "(defmethod parse-line-for-class service-call [line class]\n",
    "      (setv obj (class))\n",
    "      (for [[start end slot] [[4 18  'customer-name]\n",
    "                              [19 23 'customer-id]\n",
    "                              [24 27 'call-type-code]\n",
    "                              [28 35 'date-of-call-string]]]\n",
    "           (setattr obj slot (cut line start (+ 1 end))))\n",
    "      obj)"
   ]
  },
  {
   "cell_type": "markdown",
   "metadata": {},
   "source": [
    "Let's check that it works."
   ]
  },
  {
   "cell_type": "code",
   "execution_count": 42,
   "metadata": {},
   "outputs": [
    {
     "data": {
      "text/plain": [
       "service-call:\n",
       "   FOWLER         \n",
       "   10101\n",
       "   MS01\n",
       "   20050313\n"
      ]
     },
     "execution_count": 42,
     "metadata": {},
     "output_type": "execute_result"
    }
   ],
   "source": [
    "(parse-line-for-class \"SVCLFOWLER         10101MS0120050313.........................\" service-call)"
   ]
  },
  {
   "cell_type": "markdown",
   "metadata": {},
   "source": [
    "## Generating the classes automatically"
   ]
  },
  {
   "cell_type": "code",
   "execution_count": 50,
   "metadata": {},
   "outputs": [
    {
     "data": {
      "text/plain": [
       "<function <lambda> at 0x7f341c3b6a60>"
      ]
     },
     "execution_count": 50,
     "metadata": {},
     "output_type": "execute_result"
    }
   ],
   "source": [
    "(defmacro defmapping [name typ description]\n",
    "          `(do \n",
    "            (defclass ~name [object])))"
   ]
  },
  {
   "cell_type": "markdown",
   "metadata": {},
   "source": [
    "`macroexpand` will print the code which this macro will generate.   We have to quote the argument to `macroexpand`, otherwise it will be expanded by the interpreter."
   ]
  },
  {
   "cell_type": "code",
   "execution_count": 52,
   "metadata": {},
   "outputs": [
    {
     "data": {
      "text/plain": [
       "('do' ('defclass' 'service_call' ['object']))"
      ]
     },
     "execution_count": 52,
     "metadata": {},
     "output_type": "execute_result"
    }
   ],
   "source": [
    "(macroexpand `(defmapping service-call \"SVCL\" []))"
   ]
  },
  {
   "cell_type": "markdown",
   "metadata": {},
   "source": [
    "We can also generate a class for usage reports:"
   ]
  },
  {
   "cell_type": "code",
   "execution_count": 53,
   "metadata": {},
   "outputs": [
    {
     "data": {
      "text/plain": [
       "('do' ('defclass' 'usage' ['object']))"
      ]
     },
     "execution_count": 53,
     "metadata": {},
     "output_type": "execute_result"
    }
   ],
   "source": [
    "(macroexpand `(defmapping usage \"USGE\" []))"
   ]
  },
  {
   "cell_type": "markdown",
   "metadata": {},
   "source": [
    "Let's extend `defmapping` to generate `parse-line-for-class` as well.   We can start by dropping in the definition of `parse-line-for-class` from above."
   ]
  },
  {
   "cell_type": "code",
   "execution_count": 54,
   "metadata": {},
   "outputs": [
    {
     "data": {
      "text/plain": [
       "<function <lambda> at 0x7f341c3b6b70>"
      ]
     },
     "execution_count": 54,
     "metadata": {},
     "output_type": "execute_result"
    }
   ],
   "source": [
    "(defmacro defmapping [name typ description]\n",
    "          `(do \n",
    "            (defclass ~name [object])\n",
    "            (defmethod parse-line-for-class service-call [line class]\n",
    "                       (setv obj (class))\n",
    "                       (for [[start end slot] [[4 18  'customer-name]\n",
    "                                               [19 23 'customer-id]\n",
    "                                               [24 27 'call-type-code]\n",
    "                                               [28 35 'date-of-call-string]]]\n",
    "                            (setattr obj slot (cut line start (+ 1 end))))\n",
    "                       obj)))"
   ]
  },
  {
   "cell_type": "markdown",
   "metadata": {},
   "source": [
    "Our macro now generates a `parse-line-for-class` method along with the class definition."
   ]
  },
  {
   "cell_type": "code",
   "execution_count": 55,
   "metadata": {},
   "outputs": [
    {
     "data": {
      "text/plain": [
       "('do' ('defclass' 'service_call' ['object']) ('defmethod' 'parse_line_for_class' 'service_call' ['line' 'class'] ('setv' 'obj' ('class')) ('for' [['start' 'end' 'slot'] [[4 18 ('quote' 'customer_name')] [19 23 ('quote' 'customer_id')] [24 27 ('quote' 'call_type_code')] [28 35 ('quote' 'date_of_call_string')]]] ('setattr' 'obj' 'slot' ('cut' 'line' 'start' ('+' 1 'end')))) 'obj'))"
      ]
     },
     "execution_count": 55,
     "metadata": {},
     "output_type": "execute_result"
    }
   ],
   "source": [
    "(macroexpand `(defmapping service-call \"SVCL\" []))"
   ]
  },
  {
   "cell_type": "markdown",
   "metadata": {},
   "source": [
    "Unfortunately the `parse-line-for-class` method is hard-coded for `service-call`, so although we can generate a `usage` class, it won't get a suitable `parse-line-for-class` method."
   ]
  },
  {
   "cell_type": "code",
   "execution_count": 56,
   "metadata": {},
   "outputs": [
    {
     "data": {
      "text/plain": [
       "('do' ('defclass' 'usage' ['object']) ('defmethod' 'parse_line_for_class' 'service_call' ['line' 'class'] ('setv' 'obj' ('class')) ('for' [['start' 'end' 'slot'] [[4 18 ('quote' 'customer_name')] [19 23 ('quote' 'customer_id')] [24 27 ('quote' 'call_type_code')] [28 35 ('quote' 'date_of_call_string')]]] ('setattr' 'obj' 'slot' ('cut' 'line' 'start' ('+' 1 'end')))) 'obj'))"
      ]
     },
     "execution_count": 56,
     "metadata": {},
     "output_type": "execute_result"
    }
   ],
   "source": [
    "(macroexpand `(defmapping usage \"USGE\" []))"
   ]
  },
  {
   "cell_type": "markdown",
   "metadata": {},
   "source": [
    "Let's fix that by generating the parsing loop in the macro.   The original method definition already used a loop to parse the entries, so all we need to do is change that loop to generate the appropriate code rather than running directly."
   ]
  },
  {
   "cell_type": "code",
   "execution_count": 57,
   "metadata": {},
   "outputs": [
    {
     "data": {
      "text/plain": [
       "<function <lambda> at 0x7f341c3b6c80>"
      ]
     },
     "execution_count": 57,
     "metadata": {},
     "output_type": "execute_result"
    }
   ],
   "source": [
    "(defmacro defmapping [name typ description]\n",
    "          `(do\n",
    "            (defclass ~name [object])\n",
    "            (defmethod parse-line-for-class ~name [line class]\n",
    "                       (setv obj (class))\n",
    "                       (for [[start end slot] ~@description]\n",
    "                            (setattr obj slot (cut line start (+ 1 end))))\n",
    "                       obj)))"
   ]
  },
  {
   "cell_type": "markdown",
   "metadata": {},
   "source": [
    "This produces the same code for `service-call`"
   ]
  },
  {
   "cell_type": "code",
   "execution_count": 58,
   "metadata": {},
   "outputs": [
    {
     "data": {
      "text/plain": [
       "('do' ('defclass' 'service_call' ['object']) ('defmethod' 'parse_line_for_class' 'service_call' ['line' 'class'] ('setv' 'obj' ('class')) ('for' [['start' 'end' 'slot'] [4 18 ('quote' 'customer_name')] [19 23 ('quote' 'customer_id')] [24 27 ('quote' 'call_type_code')] [28 35 ('quote' 'date_of_call_string')]] ('setattr' 'obj' 'slot' ('cut' 'line' 'start' ('+' 1 'end')))) 'obj'))"
      ]
     },
     "execution_count": 58,
     "metadata": {},
     "output_type": "execute_result"
    }
   ],
   "source": [
    "(macroexpand `(defmapping service-call \"SVCL\" [[4 18 'customer-name]\n",
    "                                               [19 23 'customer-id]\n",
    "                                               [24 27 'call-type-code]\n",
    "                                               [28 35 'date-of-call-string]]))"
   ]
  },
  {
   "cell_type": "markdown",
   "metadata": {},
   "source": [
    "When we pass in the slot definitions for `usage`, a different `parse-line-for-class` method is generated."
   ]
  },
  {
   "cell_type": "code",
   "execution_count": 60,
   "metadata": {},
   "outputs": [
    {
     "data": {
      "text/plain": [
       "('do' ('defclass' 'usage' ['object']) ('defmethod' 'parse_line_for_class' 'usage' ['line' 'class'] ('setv' 'obj' ('class')) ('for' [['start' 'end' 'slot'] [4 8 ('quote' 'customer_id')] [9 22 ('quote' 'customer_name')] [30 30 ('quote' 'cycle')] [31 36 ('quote' 'read_date')]] ('setattr' 'obj' 'slot' ('cut' 'line' 'start' ('+' 1 'end')))) 'obj'))"
      ]
     },
     "execution_count": 60,
     "metadata": {},
     "output_type": "execute_result"
    }
   ],
   "source": [
    "(macroexpand `(defmapping usage \"USGE\" [[4 8 'customer-id]\n",
    "                                        [9 22 'customer-name]\n",
    "                                        [30 30 'cycle]\n",
    "                                        [31 36 'read-date]]))"
   ]
  },
  {
   "cell_type": "markdown",
   "metadata": {},
   "source": [
    "## Unrolling the parsing loop"
   ]
  },
  {
   "cell_type": "markdown",
   "metadata": {},
   "source": [
    "Our current macro generates a loop which iterates over a list of fields at run time.   We can do better than this by unrolling the loop at compile time, so that the generated `parse-line-for-class` method is just straight-line code.   The body of a Lisp function is a list of statements, which we can create by accumulating the statements in our loop.  However a cleaner way to do this is to turn the loop into a list comprehension."
   ]
  },
  {
   "cell_type": "code",
   "execution_count": 63,
   "metadata": {},
   "outputs": [
    {
     "data": {
      "text/plain": [
       "<function <lambda> at 0x7f341c3b6bf8>"
      ]
     },
     "execution_count": 63,
     "metadata": {},
     "output_type": "execute_result"
    }
   ],
   "source": [
    "(defmacro defmapping [name typ description]\n",
    "          `(do\n",
    "            (defclass ~name [object])\n",
    "            (defmethod parse-line-for-class ~name [line class]\n",
    "                       (setv obj (class))\n",
    "                       ~@(list-comp\n",
    "                          `(setattr obj ~slot (cut line ~start (+ 1 ~end)))\n",
    "                          [[start end slot] description])\n",
    "                       obj)))"
   ]
  },
  {
   "cell_type": "markdown",
   "metadata": {},
   "source": [
    "Now the loop is expanded at compile time and `parse-line-for-class` becomes straight line code."
   ]
  },
  {
   "cell_type": "code",
   "execution_count": 64,
   "metadata": {},
   "outputs": [
    {
     "data": {
      "text/plain": [
       "('do' ('defclass' 'usage' ['object']) ('defmethod' 'parse_line_for_class' 'usage' ['line' 'class'] ('setv' 'obj' ('class')) ('setattr' 'obj' ('quote' 'customer_id') ('cut' 'line' 4 ('+' 1 8))) ('setattr' 'obj' ('quote' 'customer_name') ('cut' 'line' 9 ('+' 1 22))) ('setattr' 'obj' ('quote' 'cycle') ('cut' 'line' 30 ('+' 1 30))) ('setattr' 'obj' ('quote' 'read_date') ('cut' 'line' 31 ('+' 1 36))) 'obj'))"
      ]
     },
     "execution_count": 64,
     "metadata": {},
     "output_type": "execute_result"
    }
   ],
   "source": [
    "(macroexpand `(defmapping usage \"USGE\" [[4 8 'customer-id]\n",
    "                                        [9 22 'customer-name]\n",
    "                                        [30 30 'cycle]\n",
    "                                        [31 36 'read-date]]))"
   ]
  },
  {
   "cell_type": "markdown",
   "metadata": {},
   "source": [
    "## Tying it all together"
   ]
  },
  {
   "cell_type": "markdown",
   "metadata": {},
   "source": [
    "We can now generate parsers for any number of different record types, but we can't parse a file of records.   We need a helper method which can read the label at the start of the record and dispatch to the appropriate parser.   We will define this method in the `defmapping` macro as well."
   ]
  },
  {
   "cell_type": "code",
   "execution_count": 65,
   "metadata": {},
   "outputs": [],
   "source": [
    "(defmulti find-class-for-parser [typ] typ)"
   ]
  },
  {
   "cell_type": "code",
   "execution_count": 66,
   "metadata": {},
   "outputs": [
    {
     "data": {
      "text/plain": [
       "<function <lambda> at 0x7f341c3b69d8>"
      ]
     },
     "execution_count": 66,
     "metadata": {},
     "output_type": "execute_result"
    }
   ],
   "source": [
    "(defmacro defmapping [name typ description]\n",
    "          `(do\n",
    "            (defclass ~name [object])\n",
    "            (defmethod parse-line-for-class ~name [line class]\n",
    "                       (setv obj (class))\n",
    "                       ~@(list-comp\n",
    "                          `(setattr obj ~slot (cut line ~start (+ 1 ~end)))\n",
    "                          [[start end slot] description])\n",
    "                       obj)\n",
    "            (defmethod find-class-for-parser ~typ [typ] ~name)))"
   ]
  },
  {
   "cell_type": "markdown",
   "metadata": {},
   "source": [
    "We can now finally generate the classes for USGE and SVCL and try them out."
   ]
  },
  {
   "cell_type": "code",
   "execution_count": 68,
   "metadata": {},
   "outputs": [],
   "source": [
    "(defmapping service-call \"SVCL\" [[4 18 'customer-name]\n",
    "                                 [19 23 'customer-id]\n",
    "                                 [24 27 'call-type-code]\n",
    "                                 [28 35 'date-of-call-string]])\n",
    "\n",
    "(defmapping usage \"USGE\" [[4 8 'customer-id]\n",
    "                          [9 22 'customer-name]\n",
    "                          [30 30 'cycle]\n",
    "                          [31 36 'read-date]])"
   ]
  },
  {
   "cell_type": "markdown",
   "metadata": {},
   "source": [
    "Let's try to parse a USGE record."
   ]
  },
  {
   "cell_type": "code",
   "execution_count": 78,
   "metadata": {},
   "outputs": [
    {
     "data": {
      "text/plain": [
       "<usage object at 0x7f341c3761d0>"
      ]
     },
     "execution_count": 78,
     "metadata": {},
     "output_type": "execute_result"
    }
   ],
   "source": [
    "(parse-line-for-class \"USGE10301TWO          x50214..7050329...............................\"\n",
    "                      (find-class-for-parser \"USGE\"))"
   ]
  },
  {
   "cell_type": "markdown",
   "metadata": {},
   "source": [
    "We can now iterate over the `*example-data*` which we defined at the beginning, creating an object for each line."
   ]
  },
  {
   "cell_type": "code",
   "execution_count": 79,
   "metadata": {},
   "outputs": [],
   "source": [
    "(setv parsed\n",
    "      (list-comp\n",
    "       (parse-line-for-class line (find-class-for-parser (cut line 0 4)))\n",
    "       [line (.split *example-data* \"\\n\")]))"
   ]
  },
  {
   "cell_type": "code",
   "execution_count": 80,
   "metadata": {},
   "outputs": [
    {
     "data": {
      "text/plain": [
       "[<service_call object at 0x7f341c38eef0>, <service_call object at 0x7f341c376978>, <service_call object at 0x7f341c376710>, <usage object at 0x7f341c376e48>]"
      ]
     },
     "execution_count": 80,
     "metadata": {},
     "output_type": "execute_result"
    }
   ],
   "source": [
    "parsed"
   ]
  },
  {
   "cell_type": "raw",
   "metadata": {},
   "source": [
    "(for [r parsed]\n",
    "     (print (. r customer_id)))"
   ]
  },
  {
   "cell_type": "markdown",
   "metadata": {},
   "source": [
    "## Extra"
   ]
  },
  {
   "cell_type": "markdown",
   "metadata": {},
   "source": [
    "Let's try to get our custom `__repr__` method back"
   ]
  },
  {
   "cell_type": "code",
   "execution_count": 98,
   "metadata": {},
   "outputs": [],
   "source": [
    "(defclass foobar [object]\n",
    "          (defn --repr-- [self]\n",
    "                (.format \"service-call:\\n   {}\\n   {}\\n   {}\\n   {}\\n\"\n",
    "                         self.customer-name\n",
    "                         self.customer-id\n",
    "                         self.call-type-code\n",
    "                         self.date-of-call-string)))"
   ]
  },
  {
   "cell_type": "code",
   "execution_count": 100,
   "metadata": {},
   "outputs": [
    {
     "name": "stderr",
     "output_type": "stream",
     "text": [
      "\u001b[0;31mTraceback (most recent call last):\n",
      "  File \"/home/local/seminars/hylang/lib64/python3.6/site-packages/calysto_hy/kernel.py\", line 98, in do_execute_direct\n",
      "    eval(code, self.env)\n",
      "  File \"In [100]\", line 2, in <module>\n",
      "  File \"In [98]\", line 4, in __repr__\n",
      "AttributeError: 'foobar' object has no attribute 'customer_name'\n",
      "\n",
      "\u001b[0m"
     ]
    }
   ],
   "source": [
    "(setv test (foobar))\n",
    "(print test)"
   ]
  },
  {
   "cell_type": "code",
   "execution_count": null,
   "metadata": {},
   "outputs": [],
   "source": [
    "(defmacro defmapping [name typ description]\n",
    "          `(do\n",
    "            (defclass ~name [object]\n",
    "                      (defn --repr-- [self]\n",
    "                            (.format \"service-call:\\n   {}\\n   {}\\n   {}\\n   {}\\n\"\n",
    "                                     self.customer-name\n",
    "                                     self.customer-id\n",
    "                                     self.call-type-code\n",
    "                                     self.date-of-call-string)))\n",
    "            (defmethod parse-line-for-class ~name [line class]\n",
    "                       (setv obj (class))\n",
    "                       ~@(list-comp\n",
    "                          `(setattr obj ~slot (cut line ~start (+ 1 ~end)))\n",
    "                          [[start end slot] description])\n",
    "                       obj)\n",
    "            (defmethod find-class-for-parser ~typ [typ] ~name)))"
   ]
  }
 ],
 "metadata": {
  "kernelspec": {
   "display_name": "Calysto Hy",
   "language": "hy",
   "name": "calysto_hy"
  },
  "language_info": {
   "codemirror_mode": {
    "name": "scheme"
   },
   "mimetype": "text/x-hylang",
   "name": "hy",
   "pygments_lexer": "lisp"
  }
 },
 "nbformat": 4,
 "nbformat_minor": 2
}
